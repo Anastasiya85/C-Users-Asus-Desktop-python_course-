{
 "cells": [
  {
   "cell_type": "markdown",
   "id": "1761ed2d",
   "metadata": {},
   "source": [
    "### Закрепление в работе со строками"
   ]
  },
  {
   "cell_type": "markdown",
   "id": "d93b0696",
   "metadata": {},
   "source": [
    "Делать задание можно сразу в этом же документе. Готовый ноутбук нужно добавить в репозиторий python-course на GitHub"
   ]
  },
  {
   "cell_type": "markdown",
   "id": "91d95977",
   "metadata": {},
   "source": [
    "**Task 1.**\n",
    "В строке a = \"We are going to pick berries\" заменить первые 4 пробела на запятые. "
   ]
  },
  {
   "cell_type": "code",
   "execution_count": 3,
   "id": "9e9d336d",
   "metadata": {},
   "outputs": [],
   "source": [
    "a = \"We are going to pick berries\""
   ]
  },
  {
   "cell_type": "code",
   "execution_count": 1,
   "id": "c1e1e007",
   "metadata": {},
   "outputs": [
    {
     "ename": "NameError",
     "evalue": "name 'a' is not defined",
     "output_type": "error",
     "traceback": [
      "\u001b[1;31m---------------------------------------------------------------------------\u001b[0m",
      "\u001b[1;31mNameError\u001b[0m                                 Traceback (most recent call last)",
      "\u001b[1;32m<ipython-input-1-adca089f9f73>\u001b[0m in \u001b[0;36m<module>\u001b[1;34m\u001b[0m\n\u001b[0;32m      1\u001b[0m \u001b[1;32mdef\u001b[0m \u001b[0mreplace\u001b[0m \u001b[1;33m(\u001b[0m\u001b[0ma\u001b[0m\u001b[1;33m)\u001b[0m\u001b[1;33m:\u001b[0m\u001b[1;33m\u001b[0m\u001b[1;33m\u001b[0m\u001b[0m\n\u001b[0;32m      2\u001b[0m     \u001b[1;32mreturn\u001b[0m \u001b[1;33m[\u001b[0m\u001b[0mi\u001b[0m\u001b[1;33m.\u001b[0m\u001b[0mreplace\u001b[0m\u001b[1;33m(\u001b[0m\u001b[1;34m\" \"\u001b[0m\u001b[1;33m,\u001b[0m \u001b[1;34m\",\"\u001b[0m\u001b[1;33m)\u001b[0m \u001b[1;32mfor\u001b[0m \u001b[0mi\u001b[0m \u001b[1;32min\u001b[0m \u001b[0ma\u001b[0m\u001b[1;33m]\u001b[0m\u001b[1;33m\u001b[0m\u001b[1;33m\u001b[0m\u001b[0m\n\u001b[1;32m----> 3\u001b[1;33m \u001b[0mreplace\u001b[0m\u001b[1;33m(\u001b[0m\u001b[0ma\u001b[0m\u001b[1;33m)\u001b[0m\u001b[1;33m\u001b[0m\u001b[1;33m\u001b[0m\u001b[0m\n\u001b[0m",
      "\u001b[1;31mNameError\u001b[0m: name 'a' is not defined"
     ]
    }
   ],
   "source": [
    "def replace (a):\n",
    "    return [i.replace(\" \", \",\") for i in a]\n",
    "replace(a)"
   ]
  },
  {
   "cell_type": "markdown",
   "id": "9512f0d2",
   "metadata": {},
   "source": [
    "**Task 2.** Считайте строку **a** и запишите в переменную **b** строку, состоящую только из символов строки **a** с нечётными индексами"
   ]
  },
  {
   "cell_type": "code",
   "execution_count": 2,
   "id": "9d6d1394",
   "metadata": {},
   "outputs": [
    {
     "name": "stdout",
     "output_type": "stream",
     "text": [
      "orbe\n"
     ]
    }
   ],
   "source": [
    "a = \"horrible\"\n",
    "b = a [1::2]\n",
    "print (b)\n",
    "\n"
   ]
  },
  {
   "cell_type": "markdown",
   "id": "8d653f15",
   "metadata": {},
   "source": [
    "**Task 3*.** Превратить строку a = \"'Hi' 'good' 'man'\" в список слов с одними ковычками."
   ]
  },
  {
   "cell_type": "code",
   "execution_count": 2,
   "id": "0f5eb04a",
   "metadata": {},
   "outputs": [],
   "source": [
    "a = \"'Hi' 'good' 'man'\""
   ]
  },
  {
   "cell_type": "code",
   "execution_count": 7,
   "id": "0b5b019f",
   "metadata": {},
   "outputs": [
    {
     "data": {
      "text/plain": [
       "['h', 'o', 'r', 'r', 'i', 'b', 'l', 'e']"
      ]
     },
     "execution_count": 7,
     "metadata": {},
     "output_type": "execute_result"
    }
   ],
   "source": [
    "a = a.replace (\"''\",' ')\n",
    "replace (a)\n"
   ]
  },
  {
   "cell_type": "markdown",
   "id": "504d496f",
   "metadata": {},
   "source": [
    "**Task 4.** Вернуть 3 средних символа строки a = 'Pronunciation'"
   ]
  },
  {
   "cell_type": "code",
   "execution_count": 3,
   "id": "7499b382",
   "metadata": {},
   "outputs": [],
   "source": [
    "a = 'Pronunciation'"
   ]
  },
  {
   "cell_type": "code",
   "execution_count": 3,
   "id": "8fbe2e5a",
   "metadata": {},
   "outputs": [
    {
     "name": "stdout",
     "output_type": "stream",
     "text": [
      "ribl\n"
     ]
    }
   ],
   "source": [
    "b = a [3:7]\n",
    "print (b)"
   ]
  },
  {
   "cell_type": "markdown",
   "id": "0ad6823e",
   "metadata": {},
   "source": [
    "**Task 5.** Подсчитать все строчные и прописные буквы, цифры и специальные символы из заданной строки.(в выводе должно быть 4 значения: верхний рег., нижний рег., цифра, символ)"
   ]
  },
  {
   "cell_type": "code",
   "execution_count": 6,
   "id": "74b3ffc6",
   "metadata": {},
   "outputs": [],
   "source": [
    "k = \"T&*Yif2k6b@\""
   ]
  },
  {
   "cell_type": "code",
   "execution_count": 4,
   "id": "2e6f620e",
   "metadata": {},
   "outputs": [
    {
     "ename": "NameError",
     "evalue": "name 'k' is not defined",
     "output_type": "error",
     "traceback": [
      "\u001b[1;31m---------------------------------------------------------------------------\u001b[0m",
      "\u001b[1;31mNameError\u001b[0m                                 Traceback (most recent call last)",
      "\u001b[1;32m<ipython-input-4-6f542eb0ff14>\u001b[0m in \u001b[0;36m<module>\u001b[1;34m\u001b[0m\n\u001b[1;32m----> 1\u001b[1;33m \u001b[0mk\u001b[0m\u001b[1;33m.\u001b[0m\u001b[0misupper\u001b[0m\u001b[1;33m(\u001b[0m\u001b[1;33m)\u001b[0m\u001b[1;33m\u001b[0m\u001b[1;33m\u001b[0m\u001b[0m\n\u001b[0m\u001b[0;32m      2\u001b[0m \u001b[0mk\u001b[0m\u001b[1;33m.\u001b[0m\u001b[0mislower\u001b[0m\u001b[1;33m(\u001b[0m\u001b[1;33m)\u001b[0m\u001b[1;33m\u001b[0m\u001b[1;33m\u001b[0m\u001b[0m\n\u001b[0;32m      3\u001b[0m \u001b[0mk\u001b[0m\u001b[1;33m.\u001b[0m\u001b[0misalnum\u001b[0m\u001b[1;33m(\u001b[0m\u001b[1;33m)\u001b[0m\u001b[1;33m\u001b[0m\u001b[1;33m\u001b[0m\u001b[0m\n\u001b[0;32m      4\u001b[0m \u001b[0mk\u001b[0m\u001b[1;33m.\u001b[0m\u001b[0misdigit\u001b[0m\u001b[1;33m(\u001b[0m\u001b[1;33m)\u001b[0m\u001b[1;33m\u001b[0m\u001b[1;33m\u001b[0m\u001b[0m\n",
      "\u001b[1;31mNameError\u001b[0m: name 'k' is not defined"
     ]
    }
   ],
   "source": [
    "k.isupper()\n",
    "k.islower()\n",
    "k.isalnum()\n",
    "k.isdigit()"
   ]
  },
  {
   "cell_type": "markdown",
   "id": "181f7290",
   "metadata": {},
   "source": [
    "**Task 6.** Найти индекс последней подстроки \"сat\" в строке k."
   ]
  },
  {
   "cell_type": "code",
   "execution_count": 9,
   "id": "8637a802",
   "metadata": {},
   "outputs": [],
   "source": [
    "k = 'We have a cat. Our cat likes salt.'"
   ]
  },
  {
   "cell_type": "code",
   "execution_count": 5,
   "id": "2b248e37",
   "metadata": {},
   "outputs": [
    {
     "ename": "NameError",
     "evalue": "name 'k' is not defined",
     "output_type": "error",
     "traceback": [
      "\u001b[1;31m---------------------------------------------------------------------------\u001b[0m",
      "\u001b[1;31mNameError\u001b[0m                                 Traceback (most recent call last)",
      "\u001b[1;32m<ipython-input-5-4eabd8d24591>\u001b[0m in \u001b[0;36m<module>\u001b[1;34m\u001b[0m\n\u001b[1;32m----> 1\u001b[1;33m \u001b[0mk\u001b[0m \u001b[1;33m[\u001b[0m\u001b[1;36m11\u001b[0m\u001b[1;33m,\u001b[0m\u001b[1;36m12\u001b[0m\u001b[1;33m,\u001b[0m\u001b[1;36m13\u001b[0m\u001b[1;33m]\u001b[0m\u001b[1;33m\u001b[0m\u001b[1;33m\u001b[0m\u001b[0m\n\u001b[0m",
      "\u001b[1;31mNameError\u001b[0m: name 'k' is not defined"
     ]
    }
   ],
   "source": [
    "k [11,12,13]"
   ]
  },
  {
   "cell_type": "markdown",
   "id": "61eb9cd3",
   "metadata": {},
   "source": [
    "**Task 7.** Считываемая строка - ваше Имя Фамилия Отчество. Вывод: строка содержащая сокращение имени и отчества до первой буквы, а фамилия полностью. (Пример: Алексей Олегович Летейкин -> А.О.Летейкин)"
   ]
  },
  {
   "cell_type": "code",
   "execution_count": null,
   "id": "1cf2e946",
   "metadata": {},
   "outputs": [],
   "source": []
  },
  {
   "cell_type": "markdown",
   "id": "cc048b67",
   "metadata": {},
   "source": [
    "**Task 8.** Изменить заданную строку так, что бы в ней поменялись местами первый и последний символы."
   ]
  },
  {
   "cell_type": "code",
   "execution_count": 15,
   "id": "e1b13952",
   "metadata": {},
   "outputs": [],
   "source": [
    "r = 'greenday'"
   ]
  },
  {
   "cell_type": "code",
   "execution_count": 13,
   "id": "a8e9741b",
   "metadata": {},
   "outputs": [
    {
     "ename": "NameError",
     "evalue": "name 'r' is not defined",
     "output_type": "error",
     "traceback": [
      "\u001b[1;31m---------------------------------------------------------------------------\u001b[0m",
      "\u001b[1;31mNameError\u001b[0m                                 Traceback (most recent call last)",
      "\u001b[1;32m<ipython-input-13-68c10519e643>\u001b[0m in \u001b[0;36m<module>\u001b[1;34m\u001b[0m\n\u001b[1;32m----> 1\u001b[1;33m \u001b[0mr\u001b[0m\u001b[1;33m.\u001b[0m\u001b[0mreplace\u001b[0m \u001b[1;33m(\u001b[0m\u001b[1;34m'g'\u001b[0m\u001b[1;33m,\u001b[0m\u001b[1;34m'y'\u001b[0m\u001b[1;33m)\u001b[0m\u001b[1;33m\u001b[0m\u001b[1;33m\u001b[0m\u001b[0m\n\u001b[0m",
      "\u001b[1;31mNameError\u001b[0m: name 'r' is not defined"
     ]
    }
   ],
   "source": [
    "r.replace ('g','y')"
   ]
  },
  {
   "cell_type": "markdown",
   "id": "52aee54e",
   "metadata": {},
   "source": [
    "**Task 9.** Создать новую строку содержащую 5 копий последних двух символов исходной строки.  \n",
    "P.S. постарайтесь написать решение в одну строку"
   ]
  },
  {
   "cell_type": "code",
   "execution_count": 16,
   "id": "aa2541cb",
   "metadata": {},
   "outputs": [],
   "source": [
    "h = 'TrueStory'"
   ]
  },
  {
   "cell_type": "code",
   "execution_count": 17,
   "id": "bd548daf",
   "metadata": {},
   "outputs": [
    {
     "ename": "NameError",
     "evalue": "name 'h' is not defined",
     "output_type": "error",
     "traceback": [
      "\u001b[1;31m---------------------------------------------------------------------------\u001b[0m",
      "\u001b[1;31mNameError\u001b[0m                                 Traceback (most recent call last)",
      "\u001b[1;32m<ipython-input-17-a0a4db699a53>\u001b[0m in \u001b[0;36m<module>\u001b[1;34m\u001b[0m\n\u001b[1;32m----> 1\u001b[1;33m \u001b[0mb\u001b[0m \u001b[1;33m=\u001b[0m \u001b[0mh\u001b[0m \u001b[1;33m[\u001b[0m\u001b[1;33m:\u001b[0m\u001b[1;33m-\u001b[0m\u001b[1;36m1\u001b[0m\u001b[1;33m]\u001b[0m\u001b[1;33m\u001b[0m\u001b[1;33m\u001b[0m\u001b[0m\n\u001b[0m",
      "\u001b[1;31mNameError\u001b[0m: name 'h' is not defined"
     ]
    }
   ],
   "source": [
    "b = h [:-1, -2] *5"
   ]
  },
  {
   "cell_type": "markdown",
   "id": "37d5d2a8",
   "metadata": {},
   "source": [
    "**Task 10*.** Напишите функцию для переворота слов в строке. ( Пример: I am sitting on a chair. -> chair. a on sitting am I)  \n",
    "P.S. Обратите внимание на метод join в работе с string."
   ]
  },
  {
   "cell_type": "code",
   "execution_count": 19,
   "id": "a595e1fd",
   "metadata": {},
   "outputs": [],
   "source": [
    "u = \"The flower stands on the window.\""
   ]
  },
  {
   "cell_type": "code",
   "execution_count": 18,
   "id": "d2fe2212",
   "metadata": {},
   "outputs": [
    {
     "ename": "NameError",
     "evalue": "name 'u' is not defined",
     "output_type": "error",
     "traceback": [
      "\u001b[1;31m---------------------------------------------------------------------------\u001b[0m",
      "\u001b[1;31mNameError\u001b[0m                                 Traceback (most recent call last)",
      "\u001b[1;32m<ipython-input-18-a59077abd00e>\u001b[0m in \u001b[0;36m<module>\u001b[1;34m\u001b[0m\n\u001b[1;32m----> 1\u001b[1;33m \u001b[0mu\u001b[0m\u001b[1;33m.\u001b[0m\u001b[0mjoin\u001b[0m\u001b[1;33m(\u001b[0m\u001b[1;33m)\u001b[0m\u001b[1;33m\u001b[0m\u001b[1;33m\u001b[0m\u001b[0m\n\u001b[0m",
      "\u001b[1;31mNameError\u001b[0m: name 'u' is not defined"
     ]
    }
   ],
   "source": [
    "u.join()"
   ]
  },
  {
   "cell_type": "code",
   "execution_count": null,
   "id": "f7a0426c",
   "metadata": {},
   "outputs": [],
   "source": []
  }
 ],
 "metadata": {
  "kernelspec": {
   "display_name": "Python 3",
   "language": "python",
   "name": "python3"
  },
  "language_info": {
   "codemirror_mode": {
    "name": "ipython",
    "version": 3
   },
   "file_extension": ".py",
   "mimetype": "text/x-python",
   "name": "python",
   "nbconvert_exporter": "python",
   "pygments_lexer": "ipython3",
   "version": "3.9.4"
  }
 },
 "nbformat": 4,
 "nbformat_minor": 5
}
